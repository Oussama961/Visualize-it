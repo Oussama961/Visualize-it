{
 "cells": [
  {
   "cell_type": "code",
   "execution_count": 1,
   "metadata": {},
   "outputs": [
    {
     "name": "stdout",
     "output_type": "stream",
     "text": [
      "81\n"
     ]
    }
   ],
   "source": [
    "# Write a Python program to calculate the value of 'a' to the power 'b'.\n",
    "\n",
    "def power(a,b):\n",
    "\tif b==0:\n",
    "\t\treturn 1\n",
    "\telif a==0:\n",
    "\t\treturn 0\n",
    "\telif b==1:\n",
    "\t\treturn a\n",
    "\telse:\n",
    "\t\treturn a*power(a,b-1)\n",
    "\n",
    "print(power(3,4))"
   ]
  },
  {
   "cell_type": "code",
   "execution_count": 2,
   "metadata": {},
   "outputs": [
    {
     "name": "stdout",
     "output_type": "stream",
     "text": [
      "13\n"
     ]
    }
   ],
   "source": [
    "#  Solve the Fibonacci sequence using recursion.\n",
    "\n",
    "def fibonacci(n):\n",
    "  if n == 1 or n == 2:\n",
    "    return 1\n",
    "  else:\n",
    "    return (fibonacci(n - 1) + (fibonacci(n - 2)))\n",
    "\n",
    "print(fibonacci(7))"
   ]
  },
  {
   "cell_type": "code",
   "execution_count": 3,
   "metadata": {},
   "outputs": [
    {
     "name": "stdout",
     "output_type": "stream",
     "text": [
      "2\n"
     ]
    }
   ],
   "source": [
    "# Find the greatest common divisor (gcd) of two integers.\n",
    "\n",
    "def Recurgcd(a, b):\n",
    "\tlow = min(a, b)\n",
    "\thigh = max(a, b)\n",
    "\n",
    "\tif low == 0:\n",
    "\t\treturn high\n",
    "\telif low == 1:\n",
    "\t\treturn 1\n",
    "\telse:\n",
    "\t\treturn Recurgcd(low, high%low)\n",
    "print(Recurgcd(12,14))"
   ]
  },
  {
   "cell_type": "code",
   "execution_count": null,
   "metadata": {},
   "outputs": [],
   "source": []
  }
 ],
 "metadata": {
  "kernelspec": {
   "display_name": "Python 3 (ipykernel)",
   "language": "python",
   "name": "python3"
  },
  "language_info": {
   "codemirror_mode": {
    "name": "ipython",
    "version": 3
   },
   "file_extension": ".py",
   "mimetype": "text/x-python",
   "name": "python",
   "nbconvert_exporter": "python",
   "pygments_lexer": "ipython3",
   "version": "3.12.9"
  }
 },
 "nbformat": 4,
 "nbformat_minor": 4
}
