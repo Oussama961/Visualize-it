{
 "cells": [
  {
   "cell_type": "code",
   "execution_count": 1,
   "metadata": {},
   "outputs": [
    {
     "name": "stdout",
     "output_type": "stream",
     "text": [
      "abcd\n"
     ]
    }
   ],
   "source": [
    "# Convert a list of characters into a string\n",
    "s = ['a', 'b', 'c', 'd']\n",
    "str1 = ''.join(s)\n",
    "print(str1)"
   ]
  },
  {
   "cell_type": "code",
   "execution_count": null,
   "metadata": {},
   "outputs": [],
   "source": [
    "# Check whether a list contains a sublist.\n",
    "def is_Sublist(l, s):\n",
    "\tsub_set = False\n",
    "\tif s == []:\n",
    "\t\tsub_set = True\n",
    "\telif s == l:\n",
    "\t\tsub_set = True\n",
    "\telif len(s) > len(l):\n",
    "\t\tsub_set = False\n",
    "\telse:\n",
    "\t\tfor i in range(len(l)):\n",
    "\t\t\tif l[i] == s[0]:\n",
    "\t\t\t\tn = 1\n",
    "\t\t\t\twhile (n < len(s)) and (l[i+n] == s[n]):\n",
    "\t\t\t\t\tn += 1\n",
    "\t\t\t\tif n == len(s):\n",
    "\t\t\t\t\tsub_set = True\n",
    "\treturn sub_set\n",
    "a = [2,4,3,5,7]\n",
    "b = [4,3]\n",
    "c = [3,7]\n",
    "print(is_Sublist(a, b))\n",
    "print(is_Sublist(a, c))"
   ]
  },
  {
   "cell_type": "code",
   "execution_count": null,
   "metadata": {},
   "outputs": [],
   "source": [
    "# Find common items from two lists.\n",
    "color1 = \"Red\", \"Green\", \"Orange\", \"White\"\n",
    "color2 = \"Black\", \"Green\", \"White\", \"Pink\"\n",
    "print(set(color1) & set(color2))"
   ]
  },
  {
   "cell_type": "code",
   "execution_count": null,
   "metadata": {},
   "outputs": [],
   "source": [
    "# Get the difference between the two lists\n",
    "list1 = [1, 2, 3, 4]\n",
    "list2 = [1, 2]\n",
    "print(list(set(list1) - set(list2)))"
   ]
  },
  {
   "cell_type": "code",
   "execution_count": null,
   "metadata": {},
   "outputs": [],
   "source": [
    "# Get the smallest number from a list.\n",
    "def max_num_in_list( list ):\n",
    "    max = list[ 0 ]\n",
    "    for a in list:\n",
    "        if a > max:\n",
    "            max = a\n",
    "    return max\n",
    "print(max_num_in_list([1, 2, -8, 0]))"
   ]
  },
  {
   "cell_type": "code",
   "execution_count": null,
   "metadata": {},
   "outputs": [],
   "source": [
    "# Get the frequency of the elements in a list.\n",
    "import collections\n",
    "my_list = [10,10,10,10,20,20,20,20,40,40,50,50,30]\n",
    "print(\"Original List : \",my_list)\n",
    "ctr = collections.Counter(my_list)\n",
    "print(\"Frequency of the elements in the List : \",ctr)"
   ]
  },
  {
   "cell_type": "code",
   "execution_count": null,
   "metadata": {},
   "outputs": [],
   "source": [
    "#  Generate all permutations of a list in Python\n",
    "import itertools\n",
    "print(list(itertools.permutations([1,2,3])))"
   ]
  },
  {
   "cell_type": "code",
   "execution_count": null,
   "metadata": {},
   "outputs": [],
   "source": [
    "# Remove duplicates from a list.\n",
    "a = [10,20,30,20,10,50,60,40,80,50,40]\n",
    "\n",
    "dup_items = set()\n",
    "uniq_items = []\n",
    "for x in a:\n",
    "    if x not in dup_items:\n",
    "        uniq_items.append(x)\n",
    "        dup_items.add(x)\n",
    "\n",
    "print(uniq_items)"
   ]
  },
  {
   "cell_type": "code",
   "execution_count": null,
   "metadata": {},
   "outputs": [],
   "source": [
    "# Find the second smallest number in a list.\n",
    "def second_smallest(numbers):\n",
    "    a1, a2 = float('inf'), float('inf')\n",
    "    for x in numbers:\n",
    "        if x <= a1:\n",
    "            a1, a2 = x, a1\n",
    "        elif x < a2:\n",
    "            a2 = x\n",
    "    return a2\n",
    "\n",
    "print(second_smallest([1, 2, -8, -2, 0]))"
   ]
  },
  {
   "cell_type": "code",
   "execution_count": null,
   "metadata": {},
   "outputs": [],
   "source": [
    "# Sum all the items in a list\n",
    "def sum_list(items):\n",
    "    sum_numbers = 0\n",
    "    for x in items:\n",
    "        sum_numbers += x\n",
    "    return sum_numbers\n",
    "print(sum_list([1,2,-8]))"
   ]
  },
  {
   "cell_type": "code",
   "execution_count": null,
   "metadata": {},
   "outputs": [],
   "source": []
  }
 ],
 "metadata": {
  "kernelspec": {
   "display_name": "Python 3 (ipykernel)",
   "language": "python",
   "name": "python3"
  },
  "language_info": {
   "codemirror_mode": {
    "name": "ipython",
    "version": 3
   },
   "file_extension": ".py",
   "mimetype": "text/x-python",
   "name": "python",
   "nbconvert_exporter": "python",
   "pygments_lexer": "ipython3",
   "version": "3.12.9"
  }
 },
 "nbformat": 4,
 "nbformat_minor": 4
}
