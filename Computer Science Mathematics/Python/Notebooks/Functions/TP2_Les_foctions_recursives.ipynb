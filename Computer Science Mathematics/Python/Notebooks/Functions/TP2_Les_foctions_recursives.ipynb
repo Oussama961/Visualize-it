{
 "cells": [
  {
   "cell_type": "markdown",
   "id": "900cece7",
   "metadata": {},
   "source": [
    "- ### OUSSAMA NEKKER, Groupe 5.\n",
    "- ### TP2: Les fonctions recursives."
   ]
  },
  {
   "cell_type": "markdown",
   "id": "3ede269d",
   "metadata": {},
   "source": [
    "#### Exercice 1:"
   ]
  },
  {
   "cell_type": "markdown",
   "id": "712170db",
   "metadata": {},
   "source": [
    "Une fonction qui calcule de maniere récursive la somme des chiffres d'un nombre entier positive donné; Exemple de `12345=1+2+3+4+5=15`"
   ]
  },
  {
   "cell_type": "code",
   "execution_count": 5,
   "id": "2a1a5403",
   "metadata": {},
   "outputs": [
    {
     "name": "stdout",
     "output_type": "stream",
     "text": [
      "6\n"
     ]
    }
   ],
   "source": [
    "def somme_recursive(n):\n",
    "    if n < 10:\n",
    "        return n\n",
    "    else:\n",
    "        return (n%10) + somme_recursive(n//10)\n",
    "print(somme_recursive(n=123))\n"
   ]
  },
  {
   "cell_type": "markdown",
   "id": "8b9bc346",
   "metadata": {},
   "source": [
    "#### Exercice 2:"
   ]
  },
  {
   "cell_type": "markdown",
   "id": "6a23d17a",
   "metadata": {},
   "source": [
    "Fonction récursive pour inversee les chaine des caracteres donnee:"
   ]
  },
  {
   "cell_type": "code",
   "execution_count": 14,
   "id": "f2938a5e",
   "metadata": {},
   "outputs": [
    {
     "data": {
      "text/plain": [
       "'nohtyP'"
      ]
     },
     "execution_count": 14,
     "metadata": {},
     "output_type": "execute_result"
    }
   ],
   "source": [
    "def inv(chaine:str):\n",
    "    return chaine[::-1]\n",
    "\n",
    "inv(\"Python\")"
   ]
  },
  {
   "cell_type": "markdown",
   "id": "6651c689",
   "metadata": {},
   "source": [
    "\n",
    "#### Exercice 3:"
   ]
  },
  {
   "cell_type": "markdown",
   "id": "830963a9",
   "metadata": {},
   "source": [
    "Fonction pour calculer le n-ieme terms de la suites de Lucas."
   ]
  },
  {
   "cell_type": "code",
   "execution_count": 9,
   "id": "dfb8d623",
   "metadata": {},
   "outputs": [
    {
     "name": "stdout",
     "output_type": "stream",
     "text": [
      "2\n",
      "1\n",
      "3\n",
      "4\n",
      "7\n"
     ]
    }
   ],
   "source": [
    "def suite(n:int):\n",
    "    if n == 0:\n",
    "        return 2\n",
    "    elif n == 1:\n",
    "        return 1\n",
    "    else:\n",
    "        return suite(n-1)+suite(n-2)\n",
    "\n",
    "for i in range(5):\n",
    "    print(suite(i))\n",
    "    "
   ]
  },
  {
   "cell_type": "markdown",
   "id": "1e8a2d18",
   "metadata": {},
   "source": [
    "#### Exercice 4:"
   ]
  },
  {
   "cell_type": "markdown",
   "id": "ff5459a1",
   "metadata": {},
   "source": [
    "Fonction recursive qui calculer le plan grand commun diviser (pgcd) de deux entiers strictument positifs en utilisant la methods de la division euclidienne."
   ]
  },
  {
   "cell_type": "code",
   "execution_count": 12,
   "id": "94bfe513",
   "metadata": {},
   "outputs": [
    {
     "data": {
      "text/plain": [
       "2"
      ]
     },
     "execution_count": 12,
     "metadata": {},
     "output_type": "execute_result"
    }
   ],
   "source": [
    "def pgcd(n:int, b):\n",
    "    if b == 0:\n",
    "        return n\n",
    "    else:\n",
    "        r = n % b\n",
    "        return pgcd(b,r)\n",
    "\n",
    "pgcd(14, 2)"
   ]
  },
  {
   "cell_type": "code",
   "execution_count": null,
   "id": "8e667815",
   "metadata": {},
   "outputs": [],
   "source": []
  }
 ],
 "metadata": {
  "kernelspec": {
   "display_name": "bibenv",
   "language": "python",
   "name": "python3"
  },
  "language_info": {
   "codemirror_mode": {
    "name": "ipython",
    "version": 3
   },
   "file_extension": ".py",
   "mimetype": "text/x-python",
   "name": "python",
   "nbconvert_exporter": "python",
   "pygments_lexer": "ipython3",
   "version": "3.12.9"
  }
 },
 "nbformat": 4,
 "nbformat_minor": 5
}
