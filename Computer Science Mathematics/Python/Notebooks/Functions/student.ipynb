{
 "cells": [
  {
   "cell_type": "markdown",
   "id": "ad035a46",
   "metadata": {},
   "source": [
    "* TP 1: Algorithme et Programation / Python\n",
    "* Nam et Prenom: Hsi Abdel Majid\n",
    "* Groupe: 04"
   ]
  },
  {
   "cell_type": "markdown",
   "id": "46b0bea4",
   "metadata": {},
   "source": [
    "# Exercice 1:\n",
    "    - Ecrire une fonction qui prend en entree un entier n et qui renvoie le nombre de chiffres de n."
   ]
  },
  {
   "cell_type": "code",
   "execution_count": 17,
   "id": "fef46be3",
   "metadata": {},
   "outputs": [
    {
     "name": "stdout",
     "output_type": "stream",
     "text": [
      "9\n"
     ]
    }
   ],
   "source": [
    "def afficher(n: int):\n",
    "    s=0\n",
    "    while n > 0:\n",
    "        n = n//10\n",
    "        s = s + 1\n",
    "    return s\n",
    "\n",
    "a = afficher(123678994)\n",
    "print(a)\n"
   ]
  },
  {
   "cell_type": "markdown",
   "id": "28b800aa",
   "metadata": {},
   "source": [
    "# Exercice 2:\n",
    "    - Ecrire une fonction qui prend en entree un entier n et qui renvoie `True` se n est premier, False sinon.\n",
    "    "
   ]
  },
  {
   "cell_type": "code",
   "execution_count": 19,
   "id": "d4339c1d",
   "metadata": {},
   "outputs": [
    {
     "name": "stdout",
     "output_type": "stream",
     "text": [
      "False\n"
     ]
    }
   ],
   "source": [
    "def premier(n):\n",
    "    if n <2:\n",
    "        return False\n",
    "    for i in range(2, int(n**(1/2)+1)):\n",
    "        if a % i == 0:\n",
    "            return False\n",
    "    return True\n",
    "\n",
    "print(premier(9))"
   ]
  },
  {
   "cell_type": "markdown",
   "id": "2b644b5c",
   "metadata": {},
   "source": [
    "# Exercice 3:\n",
    "    - Ecrire une procedure qui prend en entree deux tableaux de n entiers et qui calcule le produit scalaire de ces deux tableaux."
   ]
  },
  {
   "cell_type": "code",
   "execution_count": null,
   "id": "1c13a169",
   "metadata": {},
   "outputs": [
    {
     "name": "stdout",
     "output_type": "stream",
     "text": [
      "La taille des tableau pad de meme valeur\n"
     ]
    }
   ],
   "source": [
    "\n",
    "def produit(V, W):\n",
    "    s = 0\n",
    "    if len(V) != len(W): # si la tailles de les deux vecteurs et different.\n",
    "        return \"La taille des tableau pas de meme valeur\" # return cette message, et sort.\n",
    "    for i in range(0, len(V)): # sinon va continue a cette boucle de 0 jusqu'a la taille de V.\n",
    "        s += V[i]*W[i] # Ajouter le produit scalaire dans S\n",
    "    return s # return la valeur, pour l affichage apres.\n",
    "\n",
    "V, W = [2,2], [2,2, 3] # declarer le deux vecteurs.\n",
    "print(produit(V, W)) # appele la fonction, et donner les deux vecteur comme des parametres.\n"
   ]
  },
  {
   "cell_type": "markdown",
   "id": "838906e9",
   "metadata": {},
   "source": [
    "# Exercice 4:\n",
    "    - Ecrire une fonction qui prend en entree un entier n et qui renvoie la somme des chiffres de n."
   ]
  },
  {
   "cell_type": "code",
   "execution_count": null,
   "id": "7bd3e1bb",
   "metadata": {},
   "outputs": [
    {
     "name": "stdout",
     "output_type": "stream",
     "text": [
      "15\n"
     ]
    }
   ],
   "source": [
    "def somme(n: int): # La fonction, avec parametre forcelement du type \"int\", entiers.\n",
    "    s = 0\n",
    "    for i in range(1, n+1): # la boucle repiter de 1 jusqu'a n+1, (range() function)\n",
    "        s += i # ajouter la valeur dans S.\n",
    "    return s\n",
    "\n",
    "print(somme(5))\n"
   ]
  },
  {
   "cell_type": "markdown",
   "id": "c84581e7",
   "metadata": {},
   "source": [
    "# Exercice 5:\n",
    "    - Ecrire une procedure qui prend en entree une chaine de caracteres et qui afficher tous les caracteres qui sont majuscules."
   ]
  },
  {
   "cell_type": "code",
   "execution_count": 5,
   "id": "50c67dce",
   "metadata": {},
   "outputs": [
    {
     "name": "stdout",
     "output_type": "stream",
     "text": [
      "O.N."
     ]
    }
   ],
   "source": [
    "def somme_chiffre(n):\n",
    "    s = 0\n",
    "    for caractere in n:\n",
    "        if 56 <= ord(caractere) <= 90:\n",
    "            print(caractere, end=\".\")\n",
    "\n",
    "somme_chiffre(\"Oussama Nekker\")"
   ]
  },
  {
   "cell_type": "markdown",
   "id": "471a4716",
   "metadata": {},
   "source": [
    "# Exercice 6:\n",
    "    - Ecrire fonction qui prend en entree une chaine de caracteres et qui renvoie la chaine inversee."
   ]
  },
  {
   "cell_type": "code",
   "execution_count": 8,
   "id": "7756c697",
   "metadata": {},
   "outputs": [
    {
     "name": "stdout",
     "output_type": "stream",
     "text": [
      "dijaM ledbA\n"
     ]
    }
   ],
   "source": [
    "def inverse(n): # La declaration de la fonction \"inverse\" avec parametre \"n\" ou la chaine de caractere\n",
    "    return n[::-1] # cette ecriteure simple va inverse la chaine de caractere \"n\"... (essay d'autre declaration, [1:6:1], [1:5]...)\n",
    "\n",
    "print(inverse(\"Abdel Majid\")) # test du fonction."
   ]
  }
 ],
 "metadata": {
  "kernelspec": {
   "display_name": "bibenv",
   "language": "python",
   "name": "python3"
  },
  "language_info": {
   "codemirror_mode": {
    "name": "ipython",
    "version": 3
   },
   "file_extension": ".py",
   "mimetype": "text/x-python",
   "name": "python",
   "nbconvert_exporter": "python",
   "pygments_lexer": "ipython3",
   "version": "3.12.9"
  }
 },
 "nbformat": 4,
 "nbformat_minor": 5
}
