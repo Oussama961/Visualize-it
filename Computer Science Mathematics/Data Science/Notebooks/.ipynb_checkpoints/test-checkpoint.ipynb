{
 "cells": [
  {
   "cell_type": "code",
   "execution_count": null,
   "id": "9bcccb47-6a06-4413-8fa0-3acd372e5dbf",
   "metadata": {},
   "outputs": [],
   "source": [
    "# %% [markdown]\n",
    "# # Data Science Project: Titanic Survival Analysis\n",
    "# **Folder**: `Computer_Science_Mathematics/Data_Science/Notebooks/`  \n",
    "# **Dataset**: `../Data/titanic.csv`"
   ]
  },
  {
   "cell_type": "code",
   "execution_count": null,
   "id": "8827e83d-f742-41da-a349-a61058ae5ca6",
   "metadata": {},
   "outputs": [],
   "source": [
    "# %% [markdown]\n",
    "# ## 1. Import Libraries\n",
    "import pandas as pd\n",
    "import numpy as np\n",
    "import matplotlib.pyplot as plt\n",
    "import seaborn as sns\n",
    "sns.set_style('whitegrid')"
   ]
  },
  {
   "cell_type": "code",
   "execution_count": null,
   "id": "576ffd66-0db3-4631-b0ad-fac1701254dd",
   "metadata": {},
   "outputs": [],
   "source": [
    "# %% [markdown]\n",
    "# ## 2. Load Data\n",
    "df = pd.read_csv('../Data/titanic.csv')\n",
    "print(\"Data shape:\", df.shape)\n",
    "df.head()"
   ]
  },
  {
   "cell_type": "code",
   "execution_count": null,
   "id": "d748e14a-e95f-41d8-936b-a8469d3b978b",
   "metadata": {},
   "outputs": [],
   "source": [
    "# %% [markdown]\n",
    "# ## 3. Data Cleaning\n",
    "# Handle missing values\n",
    "df['Age'].fillna(df['Age'].median(), inplace=True)\n",
    "df['Embarked'].fillna(df['Embarked'].mode()[0], inplace=True)"
   ]
  },
  {
   "cell_type": "code",
   "execution_count": null,
   "id": "1184e5e4-b04f-463a-933a-277d2e2841a0",
   "metadata": {},
   "outputs": [],
   "source": [
    "# Drop irrelevant columns\n",
    "df.drop(['Cabin', 'PassengerId', 'Ticket'], axis=1, inplace=True)"
   ]
  },
  {
   "cell_type": "code",
   "execution_count": null,
   "id": "a08492a9-7f73-4c1b-bf6e-2f1b49ce9e60",
   "metadata": {},
   "outputs": [],
   "source": [
    "# %% [markdown]\n",
    "# ## 4. Exploratory Data Analysis (EDA)\n",
    "# %% [markdown]\n",
    "# ### Survival Rate by Gender\n",
    "plt.figure(figsize=(8,5))\n",
    "sns.barplot(x='Sex', y='Survived', data=df, palette='viridis')\n",
    "plt.title('Survival Rate by Gender')\n",
    "plt.savefig('../Outputs/Figures/survival_by_gender.png')  # Save to Outputs\n",
    "plt.show()"
   ]
  },
  {
   "cell_type": "code",
   "execution_count": null,
   "id": "225aad22-8213-4355-8a44-203aa5c1f7a7",
   "metadata": {},
   "outputs": [],
   "source": [
    "# %% [markdown]\n",
    "# ### Age Distribution of Passengers\n",
    "plt.figure(figsize=(10,6))\n",
    "sns.histplot(df['Age'], bins=30, kde=True, color='purple')\n",
    "plt.title('Age Distribution')\n",
    "plt.savefig('../Outputs/Figures/age_distribution.png')\n",
    "plt.show()"
   ]
  },
  {
   "cell_type": "code",
   "execution_count": null,
   "id": "58b0a9ce-c879-45ab-b981-4f8ccb0ad756",
   "metadata": {},
   "outputs": [],
   "source": [
    "# %% [markdown]\n",
    "# ### Correlation Heatmap\n",
    "plt.figure(figsize=(10,8))\n",
    "sns.heatmap(df.corr(numeric_only=True), annot=True, cmap='coolwarm')\n",
    "plt.title('Feature Correlations')\n",
    "plt.savefig('../Outputs/Figures/correlation_heatmap.png')\n",
    "plt.show()"
   ]
  },
  {
   "cell_type": "code",
   "execution_count": null,
   "id": "cca7da92-be58-4d12-a3cd-5937d5a79df7",
   "metadata": {},
   "outputs": [],
   "source": [
    "# %% [markdown]\n",
    "# ## 5. Feature Engineering\n",
    "# Create family size feature\n",
    "df['FamilySize'] = df['SibSp'] + df['Parch'] + 1"
   ]
  },
  {
   "cell_type": "code",
   "execution_count": null,
   "id": "d57ffae4-7663-4ab8-bfa4-2844cf9dc4d7",
   "metadata": {},
   "outputs": [],
   "source": []
  },
  {
   "cell_type": "code",
   "execution_count": null,
   "id": "d149b01e-c836-4b9a-ad76-0dee66a6d488",
   "metadata": {},
   "outputs": [],
   "source": []
  }
 ],
 "metadata": {
  "kernelspec": {
   "display_name": "Python 3 (ipykernel)",
   "language": "python",
   "name": "python3"
  },
  "language_info": {
   "codemirror_mode": {
    "name": "ipython",
    "version": 3
   },
   "file_extension": ".py",
   "mimetype": "text/x-python",
   "name": "python",
   "nbconvert_exporter": "python",
   "pygments_lexer": "ipython3",
   "version": "3.12.3"
  }
 },
 "nbformat": 4,
 "nbformat_minor": 5
}
