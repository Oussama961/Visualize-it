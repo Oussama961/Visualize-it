{
 "cells": [
  {
   "cell_type": "markdown",
   "id": "3c9136b7",
   "metadata": {},
   "source": [
    "## Travaux Pratiques Electrostatique et magnitostatique.\n",
    "- ## TP2: Etude du champ électrique dans un condensateur plan.\n",
    "- ##### OUSSAMA NEKKER / YASSIR SAADI / SALH SADKI / Groupe: 7\n",
    "###### En utilisant Jupyter Notebook, Le compte rendu a été condtruit et nous avons utilisé Python pour tracer les graphiques (courbes)."
   ]
  },
  {
   "cell_type": "markdown",
   "id": "907cc2fb",
   "metadata": {},
   "source": [
    "<img src=\"images/visual_1.jfif\" title=\"Manipulation de TP du champ electrique dans un condensateur plan.\"/>"
   ]
  },
  {
   "cell_type": "markdown",
   "id": "fbcc4f65",
   "metadata": {},
   "source": [
    "###### from PHYWI website."
   ]
  },
  {
   "cell_type": "markdown",
   "id": "d48a0c83",
   "metadata": {},
   "source": [
    "`Objectif:` Le but de cette manipulation est d'etudier le champ electrique et le potentiel dans un condensateur à plaques paralleles, en fenction de l'espacement entre les plaques et la tension appliquée."
   ]
  },
  {
   "cell_type": "markdown",
   "id": "b0cf9d65",
   "metadata": {},
   "source": [
    "#### Partie Théorique: "
   ]
  },
  {
   "cell_type": "markdown",
   "id": "e16264b9",
   "metadata": {},
   "source": [
    "L'experience consiste à mesurer le champ electrique et le potentiel entre les plaque d'un condensateur. Le champ électrique est étudié en fonction de la tonsion appliquee et de la distance entre les plaques."
   ]
  },
  {
   "cell_type": "markdown",
   "id": "a2dc006a",
   "metadata": {},
   "source": [
    "`Définition:`\n",
    "- Un condensateur plan est constitué de deux plaques conductrices paralléles, de surface $S$ , Séparees par une distance $d$ et soumises à une différence de potentiel $\\delta V$. La capacité d'un condensateur à plan parallele $C$ dépend de sa géometrie et est donner par: $C = \\frac{Q}{\\delta V}$"
   ]
  },
  {
   "cell_type": "markdown",
   "id": "b07c48be",
   "metadata": {},
   "source": [
    "`Dimenstrations: `"
   ]
  },
  {
   "cell_type": "markdown",
   "id": "d1dcf0d9",
   "metadata": {},
   "source": [
    "- Considérant un condensateur plan constitué de deux plaques paralleles chargées de maniere opposée, Donc le champ électrostatique uniforme entre les plaques est donné par: $E = \\frac{\\sigma}{\\epsilon_0}$. Car si on applique la loi de Geusse. $\\oint_{\\mathcal{S}} \\mathbf{E}\\!\\cdot d\\mathbf{S} = \\Phi_{\\mathbf{haute}} + \\Phi_{\\mathbf{bas}} = E\\,A+0 = E\\.A$.\n",
    "- Avec $Q_{enc} = \\sigma A$. La seule charge enfermée est porteé par la plaque interieure, de densite $\\sigma$ sur un air $A$.\n",
    "- Donc l'application de loi de Gausse (Dans le vide), s'ecrit: $\\oint_{\\mathcal{S}} \\mathbf{E}\\!\\cdot d\\mathbf{S} = \\frac{Q_{enc}}{\\epsilon_0} \\longrightarrow E.A = \\frac{\\sigma A}{\\epsilon_0}$\n",
    "- Evec simplification par $A$ on obtient: $E = \\frac{\\sigma}{\\epsilon_0}$\n"
   ]
  },
  {
   "cell_type": "markdown",
   "id": "e4ae2eda",
   "metadata": {},
   "source": [
    "- La capacite $C$ d'un condensateur est le rapport entre la charge $Q$ stockée et la différence $\\delta V$: tel que $C = \\frac{Q}{\\delta V}$\n",
    "- Entre les deux plaques, le champ est uniforme et vaut a partir du Dimenstration 1. $E = \\frac{\\sigma}{\\epsilon_0}$ (Avec $\\sigma = \\frac{Q}{S}$: est la densite de charge surfacique et $\\epsilon_0$ la permittivite du vide).\n",
    "- Evec lien potentiel-champ, $\\delta V = Ed$ Car le champ est canstant et parallele a la distance.\n",
    "- Donc, L'expression de la capacite est $C = \\frac{Q}{\\frac{Q}{S\\epsilon_0}d}=\\frac{Q}{Q}\\frac{S\\epsilon_0}{d} = \\epsilon_0\\frac{S}{d}$"
   ]
  },
  {
   "cell_type": "markdown",
   "metadata": {},
   "source": [
    "- Pour un champ electrique uniforme entre deux plaques paralléles séparees d'une distance $d$, la difference de potentiel $\\delta V$ s'exprime par l'integrale du champ suivant le long de direction $x$. $\\delta V = V(b) - V(a) = -\\int_{a}^{b}E.dl$\n",
    "- Alors; $\\delta V = \\int_{0}^{d}E.dx = -Ed$. implique $E = \\frac{\\delta V}{d}$"
   ]
  },
  {
   "cell_type": "markdown",
   "id": "b54bbef5",
   "metadata": {},
   "source": [
    "### Partie Expérimentale:"
   ]
  },
  {
   "cell_type": "markdown",
   "id": "167504cd",
   "metadata": {},
   "source": [
    "Matériel utilisé: \n",
    "- Condensateur à plaques paralléles.\n",
    "- Generateur de tension continue.\n",
    "- Voltmetre, amperemetre, multimetre.\n",
    "- Regle graduée."
   ]
  },
  {
   "cell_type": "markdown",
   "id": "3c2f5027",
   "metadata": {},
   "source": [
    "Etude de champ electrique en fonction de la tension $\\delta v$ (La distance fixe entre les plaques $d = 5cm$)\n",
    "| $\\delta V$ | $10$ | $20$ | $30$ | $40$ | $50$ |\n",
    "|:--------:|:--------:|:--------:|:--------:|:--------:|:--------:|\n",
    "| $ E (V/cm) $  |  1.82   |  2.13   | 2.59   |  3.3   |  3.65  |\n",
    "\n"
   ]
  },
  {
   "cell_type": "markdown",
   "id": "34f1b7c8",
   "metadata": {},
   "source": [
    "<img src=\"images/Champ electrique $E$ en fonction de la tension.png\" title=\"Manipulation de TP du champ electrique dans un condensateur plan.\"/>"
   ]
  },
  {
   "cell_type": "markdown",
   "id": "e746509c",
   "metadata": {},
   "source": [
    "Etude du champ electrique en fonction de la distance $d$ entre les plaques. (Avec une tension constant $50 V$ au condensateur)\n",
    "| $d (cm) $ | $2.5$ | $5$ | $7.5$ | $10$ |\n",
    "|:--------:|:--------:|:--------:|:--------:|:--------:|\n",
    "| $ E (V/cm) $  |  3.47   |  3.65   | 2.68 |  2.155  |\n",
    "\n",
    "\n"
   ]
  },
  {
   "cell_type": "markdown",
   "id": "8fca36bf",
   "metadata": {},
   "source": [
    "<img src=\".\\images\\Champ electrique E en fonction de la distance1.png\" title=\"Manipulation de TP du champ electrique dans un condensateur plan.\"/>\n",
    "<img src=\".\\images\\Champ electrique E en fonction de la distance2.png\" title=\"Manipulation de TP du champ electrique dans un condensateur plan.\"/>"
   ]
  },
  {
   "cell_type": "markdown",
   "id": "0bfffcb4",
   "metadata": {},
   "source": [
    "- La pente de la courbe $E = f(1/d)$ represnets la tension $\\Delta V$ appliquee entre les plaque de condensateur."
   ]
  }
 ],
 "metadata": {
  "kernelspec": {
   "display_name": "bibenv",
   "language": "python",
   "name": "python3"
  },
  "language_info": {
   "codemirror_mode": {
    "name": "ipython",
    "version": 3
   },
   "file_extension": ".py",
   "mimetype": "text/x-python",
   "name": "python",
   "nbconvert_exporter": "python",
   "pygments_lexer": "ipython3",
   "version": "3.12.9"
  }
 },
 "nbformat": 4,
 "nbformat_minor": 5
}
