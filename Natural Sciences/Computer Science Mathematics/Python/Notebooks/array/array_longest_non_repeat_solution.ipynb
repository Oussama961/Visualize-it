{
 "cells": [
  {
   "cell_type": "code",
   "execution_count": 2,
   "metadata": {},
   "outputs": [
    {
     "name": "stdout",
     "output_type": "stream",
     "text": [
      "14\n",
      "['F', 'P', ' ', 'B', 'e', 'n', 'i']\n",
      "['P', ' ', 'B', 'e', 'n', 'i']\n",
      "[' ', 'B', 'e', 'n', 'i']\n",
      "['B', 'e', 'n', 'i', ' ', 'M']\n",
      "['e', 'n', 'i', ' ', 'M']\n",
      "['n', 'i', ' ', 'M', 'e', 'l']\n",
      "['i', ' ', 'M', 'e', 'l']\n",
      "[' ', 'M', 'e', 'l']\n",
      "['M', 'e', 'l']\n",
      "['e', 'l']\n",
      "['l']\n",
      "['l', 'a']\n",
      "['a', 'l']\n",
      "['l']\n"
     ]
    },
    {
     "data": {
      "text/plain": [
       "7"
      ]
     },
     "execution_count": 2,
     "metadata": {},
     "output_type": "execute_result"
    }
   ],
   "source": [
    "str = \"FP Beni Mellal\"\n",
    "def longest_non_repeat(str):\n",
    "    print(len(str))\n",
    "    i=0\n",
    "    max_length = 1\n",
    "    for i,c in enumerate(str):\n",
    "        start_at = i\n",
    "        sub_str=[]\n",
    "        while (start_at < len(str)) and (str[start_at] not in sub_str):\n",
    "            sub_str.append(str[start_at])\n",
    "            start_at = start_at + 1\n",
    "        if len(sub_str) > max_length:\n",
    "            max_length = len(sub_str)\n",
    "        print(sub_str)\n",
    "        \n",
    "    return max_length\n",
    "\n",
    "longest_non_repeat(str)"
   ]
  },
  {
   "cell_type": "code",
   "execution_count": 1,
   "metadata": {},
   "outputs": [
    {
     "name": "stdout",
     "output_type": "stream",
     "text": [
      "['0-->2']\n",
      "['0-->2', '4-->5']\n",
      "['0-->2', '4-->5', '7']\n",
      "['0-->2', '4-->5', '7']\n"
     ]
    }
   ],
   "source": [
    "\n",
    "input_array = [0,1,2,4,5,7]\n",
    "# input_array = [1,2,3,6,9,11,12,13,14,19,20]\n",
    "\n",
    "start=0\n",
    "result = []\n",
    "\n",
    "# i=0\n",
    "# while i <= len(input_array)-1:\n",
    "#     print(i, input_array[i])\n",
    "#     i = i+1\n",
    "\n",
    "\n",
    "while start < len(input_array):\n",
    "    end = start\n",
    "    while end+1<len(input_array) and ((input_array[end+1] - input_array[end]) == 1):\n",
    "        end = end + 1\n",
    "    if end!=start:\n",
    "        result.append(\"{0}-->{1}\".format(input_array[start], input_array[end]))\n",
    "        print(result)\n",
    "    else:\n",
    "        result.append(\"{0}\".format(input_array[start]))\n",
    "        print(result)\n",
    "        \n",
    "    # change to next range\n",
    "    start = end+1\n",
    "\n",
    "print(result)\n",
    "\n"
   ]
  },
  {
   "cell_type": "code",
   "execution_count": 2,
   "metadata": {},
   "outputs": [
    {
     "name": "stdout",
     "output_type": "stream",
     "text": [
      "5\n"
     ]
    }
   ],
   "source": [
    "\n",
    "first_array = [1,2,3,4,5,6,7]\n",
    "second_array = [3,7,2,1,4,6]\n",
    "\n",
    "def finder(first_array, second_array):\n",
    "    return(sum(first_array) - sum(second_array))\n",
    "\n",
    "missing_number = finder(first_array, second_array)\n",
    "\n",
    "print(missing_number)    "
   ]
  },
  {
   "cell_type": "code",
   "execution_count": 3,
   "metadata": {},
   "outputs": [
    {
     "name": "stdout",
     "output_type": "stream",
     "text": [
      "[5, 6, 7, 1, 2, 3, 4]\n"
     ]
    }
   ],
   "source": [
    "org = [1,2,3,4,5,6,7]\n",
    "result = org[:]\n",
    "steps = 3\n",
    "\n",
    "for idx,num in enumerate(org):\n",
    "    if idx+steps < len(org):\n",
    "        result[idx+steps] = org[idx]\n",
    "    else:\n",
    "        result[idx+steps-len(org)] = org[idx]\n",
    "\n",
    "print(result)"
   ]
  },
  {
   "cell_type": "code",
   "execution_count": 4,
   "metadata": {},
   "outputs": [
    {
     "name": "stdout",
     "output_type": "stream",
     "text": [
      "0 1\n",
      "0 2\n",
      "0 3\n",
      "1 2\n",
      "1 3\n",
      "2 3\n"
     ]
    }
   ],
   "source": [
    "input_array = [2, 7, 11, 15]\n",
    "target = 26\n",
    "result = []\n",
    "\n",
    "for i, num in enumerate(input_array):\n",
    "    for j in range(i+1, len(input_array)):\n",
    "        print(i,j)"
   ]
  },
  {
   "cell_type": "code",
   "execution_count": 5,
   "metadata": {},
   "outputs": [
    {
     "name": "stdout",
     "output_type": "stream",
     "text": [
      "[[1, 10], [11, 18], [19, 22]]\n"
     ]
    }
   ],
   "source": [
    "org_intervals = [[1,3],[2,6],[5,10],[11,16],[15,18],[19,22]]\n",
    "\n",
    "i = 0\n",
    "\n",
    "while i < len(org_intervals)-1:\n",
    "#     print(org_intervals[i])\n",
    "    if org_intervals[i+1][0] < org_intervals[i][1]:\n",
    "        org_intervals[i][1]=org_intervals[i+1][1]\n",
    "        del org_intervals[i+1]\n",
    "        i = i - 1\n",
    "    i = i + 1\n",
    "\n",
    "print(org_intervals)"
   ]
  }
 ],
 "metadata": {
  "kernelspec": {
   "display_name": "Python 3 (ipykernel)",
   "language": "python",
   "name": "python3"
  },
  "language_info": {
   "codemirror_mode": {
    "name": "ipython",
    "version": 3
   },
   "file_extension": ".py",
   "mimetype": "text/x-python",
   "name": "python",
   "nbconvert_exporter": "python",
   "pygments_lexer": "ipython3",
   "version": "3.12.9"
  }
 },
 "nbformat": 4,
 "nbformat_minor": 4
}
