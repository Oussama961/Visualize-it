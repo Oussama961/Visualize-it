{
 "cells": [
  {
   "cell_type": "markdown",
   "id": "92a8c51d93518cb",
   "metadata": {},
   "source": [
    "* Soit la fonction $f$ definie sur $R$ par: $f(x)=3x^2$. la primitive du $f(x)$ est $F(x) = x^3 + C$ (avec $ C = cste \\in R$)\n",
    "* Soit la fonction $f$ definie sur $R$ par: $f(x) = \\frac{x}{\\sqrt{x^2 + + 3}}$. Alors la fonction $F(x)$ definie sur $R$ definie par: $F(x) = \\sqrt{x^2 + 3}$ est une primitive de $f(x)$.\n",
    "    * On a $F(x) = \\sqrt{x^2 + 3}$\n",
    "    * Alors $F'(x) = \\frac{2x}{\\\\2 \\sqrt{x^2 + 3}} = \\frac{x}{\\sqrt{x^2 + + 3}} = f(x)$"
   ]
  },
  {
   "cell_type": "markdown",
   "id": "95c054cac97063df",
   "metadata": {},
   "source": [
    "<img alt=\"Dans chaque ligne, f est la derivee de la fonction f sur l’intervalle I.\" src=\"..//Assets/Derivee des fonctions useulles.png\" title=\"Derivees des fonctions usuelles\"/>\n",
    "<img alt=\"Dans chaque ligne, F est une primitive de f sur l’intervalle I. Ces primitives sont\n",
    "uniques a une constante pres notee C\" src=\"..//Assets/Primitives des fonctions usuelles.png\"  title=\"Primitives des fonctions usuelles\"/>"
   ]
  },
  {
   "cell_type": "markdown",
   "id": "357323376e54ca62",
   "metadata": {},
   "source": [
    "# Operations et Derivees:"
   ]
  },
  {
   "cell_type": "markdown",
   "id": "c5b7ce1ed4e63577",
   "metadata": {},
   "source": [
    "* $ (f + g)' = f' + g' $\n",
    "* $({\\lambda}f)' = {\\lambda}f'$ Car $({\\lambda}=cste)$\n",
    "* $(fg)' = f'g + fg' $\n",
    "* $(\\frac{1}{g})' = \\frac{g'}{g^2}$\n",
    "* $(\\frac{f}{g})' = \\frac{f'g - fg'}{g^2} $\n",
    "* $(f \\circ g)' = g' (f' \\circ g) $\n",
    "* $(u^n)' = nu^{n-1}u', \\quad (n \\in \\mathbb{N},, n > 2)$\n",
    "* $(\\frac{1}{u^n})' = -\\frac{nu'}{u^{n+1}}, \\quad (n \\in \\mathbb{N}, n>=1) $\n",
    "* $(e^u)' = u'e^u$\n",
    "* $(\\ln|u|)' = \\frac{u'}{u} $"
   ]
  },
  {
   "cell_type": "markdown",
   "id": "c5ed166b9a100558",
   "metadata": {},
   "source": [
    "# Operations et Primitive:"
   ]
  },
  {
   "cell_type": "markdown",
   "id": "946a00b2790775d3",
   "metadata": {},
   "source": [
    "On suppose que u est une fonction d´erivable sur un intervalle I:\n"
   ]
  },
  {
   "cell_type": "markdown",
   "id": "c7b854a65e43ae34",
   "metadata": {},
   "source": [
    "* Primitive de $u'u^n$ sur I est: $\\frac{u^{n+1}}{n+1} $.\n",
    "* .. .. .. .. $\\frac{u'}{u^2}$ sur I est: $-\\frac{1}{u}$.\n",
    "* .. .. .. .. $\\frac{u'}{u^n}$ sur I est: $-\\frac{1}{(n-1)u^{n-1}}. \\quad n \\in \\mathbb{N}, n>=2) $.\n",
    "* .. .. .. .. $\\frac{u'}{\\\\\\sqrt{u}}$ sur I est: $2\\sqrt{u}$ (supposant que $u>0$ sur I).\n",
    "* .. .. .. .. $\\frac{u'}{u}$ sur I est: $ln|u|$.\n",
    "* .. .. .. .. $u'e^{u}$ sur I est: $e^{u}$\n",
    "* si $u>0$ sur I, si $ a \\in \\mathbb{R} \\setminus \\{-1\\}$ une primitive de $u'u^{a}$ sur I est:\n",
    "    * $$\n",
    "            \\int u'\\, u^a\\ =\n",
    "            \\begin{cases}\n",
    "            \\frac{1}{a+1}\\, u^{a+1} + C, & \\text{si } a \\in \\mathbb{R} \\setminus \\{-1\\},\\\\[1em]\n",
    "            \\ln u + C, & \\text{si } a = -1.\n",
    "            \\end{cases}\n",
    "        $$"
   ]
  },
  {
   "cell_type": "markdown",
   "id": "3e5f11eac1d45504",
   "metadata": {},
   "source": [
    "- Soit $f$ une fonction admettent une primitive $F$ sur un intervalle I. alors $f$ admet une infinite de primitive. $G$ primitive de $f$ ssi $\\exists$! reel $k\\mathbb{R}$ tell aue: $\\forall x, G(x) = F(x) + k$\n",
    "- Soit $ a \\in I, b \\in\\mathbb{R}. \\exists!$ primitive $G$ tq: $G(a) = b$\n",
    "    - est la difference de primitive: (explication);\n",
    "        - si $G$ et $F$ sont deux primitive de $f$ sur I, alors: $G'(x) = f(x)$ et $F'(x) = f(x)$\n",
    "        - pour $(G(x) - F(x))' = G'(x) - F'(x) = f(x) - f(x) = 0$. Une fonction dont la dirivee est null sur I est $Constante$.\n",
    "        - alors; $\\exists k$ tq: $G(x) = F(x) + k.$  $\\forall x \\in I$\n",
    "    - Le choix de $𝑘$ est unique pour chaque primitive $𝐺$ lorsque $F$ est fixée. Cela signifie qu’en fixant une primitive $F$, toutes les autres primitives de $f$ sont obtenues en ajoutant une constante réelle $𝑘$\n",
    "    - Puisque $𝑘$ peut être choisi librement dans $𝑅$, il y a une infinité de valeurs possibles pour $𝑘$. Par conséquent, $𝑓$ admet une infinité de primitives.\n",
    "\n",
    "\n"
   ]
  },
  {
   "cell_type": "markdown",
   "id": "cb43e9c094d8ac90",
   "metadata": {},
   "source": [
    "Graph des primitive $f(x)=3x^2$, $F(x)=x^3$, $G(x)=F(x)+g$ et $H(x)=F(x)-h$"
   ]
  },
  {
   "cell_type": "markdown",
   "id": "0b4641dd",
   "metadata": {},
   "source": [
    "<img alt=\"\" src=\"..//Outputs/Figures/Graph des premitive 1er exemple.png\" title=\"Primitive de fonction $f(x)=3x^2$\"/>"
   ]
  },
  {
   "cell_type": "markdown",
   "id": "edf24ad16d127280",
   "metadata": {},
   "source": [
    "# Theoreme:"
   ]
  },
  {
   "cell_type": "markdown",
   "id": "4f9c61fb2c55c490",
   "metadata": {},
   "source": [
    "soit ine fonction continue sur $[a,b]$ et $x_0 \\in [a,b]$ alors: $F:x\\longrightarrow\\int_{x_0}^{x} f(t)dt$ est la primitive de $f$ que s'annulle dand $x_0$ (Autrement dit, $F'(x) = f(x)$, $\\forall x\\in [a,b]$ et $F(x_0)=0$)"
   ]
  },
  {
   "cell_type": "markdown",
   "id": "7d096f957b31aa1e",
   "metadata": {},
   "source": [
    "* La continuite de $f$ sur $[a,b]$ garantit que l'integrale $\\int_{x_0}^{x}f(t)dt$ ($F$) est bien definie $\\forall$ $x\\in [a,b]$\n",
    "* D'apres le théoreme fondamental d'analyse. La fonction $F$ definie par: $F(x)=\\int_{x_0}^{x}f(t)dt$ est derivable sur $[a,b]$ tq $F'(x)=f(x)$\n",
    "* si $x$ $=$ $x_0$ : $F(x_0)=\\int_{x_0}^{x_0}f(t)dt = 0$\n"
   ]
  },
  {
   "cell_type": "markdown",
   "id": "1c7aae43-3374-4868-b5fa-05cee7081961",
   "metadata": {},
   "source": [
    "On va prende on exemple du $f(t) = sin(t)$ sur l'interval $[0, 2\\pi]$ et $x_0 = 0$\n",
    "<img alt=\"Fonction continue s'anulle sur x_0, primitive s'annulle sur x_0\" src=\"..//Outputs/Figures/Continuite de f.png\" title=\"Primitive de fonction $f(x)=3x^2$\"/>"
   ]
  },
  {
   "cell_type": "markdown",
   "id": "7e37b3edb3ea0988",
   "metadata": {},
   "source": [
    "La preuve; est la derivee de $F$. $\\forall x \\in ]a,b[$ et $h\\in\\mathbb{R}$ tq; $x+h \\in ]a,b[$. On a $f(x+h) - f(x) = \\int_{x_0}^{x+h} f(t)dt - \\int_{x_0}^{x} f(t)dt = \\int_{x}^{x+h}f(t)dt$"
   ]
  },
  {
   "cell_type": "markdown",
   "id": "52288a03-61bd-4462-a644-8bca43784cc5",
   "metadata": {},
   "source": [
    "Donc; $\\frac{F(x+h)-F(x)}h=\\frac{1}{h}\\int_{x}^{x+h}f(t)dt$"
   ]
  },
  {
   "cell_type": "markdown",
   "id": "067be7e1-e001-4b8a-bca7-09b122c455dd",
   "metadata": {},
   "source": [
    "Comme $h$ est petit, alors le taux d'accroissement dans $[x, x+h$ est moyenne. Donc $\\exists$ $c \\in [x,x+h]$ tq; $f(c) = \\frac{1}h\\int_{x}^{x+h}f(t)dt$. ((((( $\\exists$ $t \\in [0,1]$ tq $c=x+th$)))))"
   ]
  },
  {
   "cell_type": "markdown",
   "id": "4431a8c3-b0c7-442f-8e1b-1666249bc95c",
   "metadata": {},
   "source": [
    "quand $h\\longrightarrow0$ alors $c\\longrightarrow x$ alors $f(c)\\longrightarrow f(x)$ (Car f est continue). Donc;"
   ]
  },
  {
   "cell_type": "markdown",
   "id": "ef560249-2900-44d0-aa18-b4f7d138e62d",
   "metadata": {},
   "source": [
    "#### $F'(x) = \\lim_{h\\to0}\\frac{F(x+h) - F(x)}h = \\lim_{h\\to0}f(x+th)=f(x)$  $\\longleftrightarrow$  $ F'(x) = f(x)$"
   ]
  },
  {
   "cell_type": "markdown",
   "id": "e83a848f-9c5e-4f26-be90-ccb42766f6b4",
   "metadata": {},
   "source": [
    "Supposons que $a < b$ (ou $a>b$). Si $x = a$, prend $h>0$ alors $\\lim_{h\\to0^+}\\frac{F(a+h)-F(a)}h = F'_d(a) = f(a)$ (...De meme pour $a=b$ ...)"
   ]
  },
  {
   "cell_type": "markdown",
   "id": "bdcc06fb-7840-425b-bbbd-a2a179be8fd2",
   "metadata": {},
   "source": [
    "Donc $f$ est derivable sur $[a,b]$\n",
    "* (1.0) <img alt=\"Fonction continue s'anulle sur x_0\" src=\"../Outputs/Figures/Fonction s'annulle dans 0 (1).png\" title=\"Fonction $f(x)=x^2$, $f(x)=x^2-x$\"/>\n",
    "\n",
    "* (1.1) <img alt=\"Primitive s'annulle sur x_0\" src=\"../Outputs/Figures/Primitive s'annulle dans 0 (2).png\" title=\"Primitive des fonctions\"/>"
   ]
  },
  {
   "cell_type": "markdown",
   "id": "6525bc5f-5c83-4804-8e31-b6b6bc416c4e",
   "metadata": {},
   "source": [
    "# L'integrale d'une fonctions sur un intervalle"
   ]
  },
  {
   "cell_type": "markdown",
   "id": "e9c4bcff-6189-4c74-ae1d-cde882229883",
   "metadata": {},
   "source": [
    "l'intergrale de $f$ sur $[a,b]$ est une nombre reel $F(b) - F(a)$ avec $F$ est le primitive de $f$. ($\\int_{a}^{b} f(x)dx = F(b)-F(a)$)"
   ]
  },
  {
   "cell_type": "markdown",
   "id": "786af37a-51f1-48cc-9e35-42ccd5fee3f0",
   "metadata": {},
   "source": [
    "Soit $f$ une fonction continue et positive sur un intervalle $[a; b]$ et $\\mathcal{C}$ sa courbe representative dans un repere $(O;\\vec{i};\\vec{j})$. On appelle integrale de $a$ a $b$ de la fonction $f$ la mesure de l’aire en unite d’aire de la partie A du plan delimitee par l’axe des abscisses, les droites d'equations $x = a$ et $x = b$ et la courbe $\\mathcal{C}$. $(\\int_{a}^{b}f(t)dt$ cette aire."
   ]
  },
  {
   "cell_type": "markdown",
   "id": "5d11c8df-1e05-457b-9fea-0bbe429652f7",
   "metadata": {},
   "source": [
    "Lorsque $𝑓$ est intégrable sur $[a,b]$, l'intégrale ordinaire $f(x)dx$ calcule l'aire algébrique, c'est-à-dire que les régions où $f(x)$ est négative (sous l'axe $x$) donnent une contribution négative. Par conséquent, cette intégrale peut être nulle ou même négative si les aires au-dessus et au-dessous de l'axe se compensent."
   ]
  },
  {
   "cell_type": "markdown",
   "id": "eafe7fb0-8f19-4bd9-83d2-3da32daa5f96",
   "metadata": {},
   "source": [
    "Si $f(x)>0$ dans tout point de l'intervalle $[a,b]$. alors $f(x)\\geqslant0$ alors $|f(x)| = f(x)$, et l'aire géométrique est simplement l'aire sous la courbe."
   ]
  },
  {
   "cell_type": "markdown",
   "id": "03096c95-0f8b-4b49-9e96-9f37c1c3114c",
   "metadata": {},
   "source": [
    "Si $f(x)$ prend des valeurs négatives sur une partie de l'intervalle, la valeur absolue permet de considérer ces aires comme positives. Par exemple: $f(x)\\leqslant0$, sur $[\\mathcal{C}, b]$. Alors $\\int_{\\mathcal{C}}^{b}|f(x)|dx = -\\int_{\\mathcal{C}}^{b}f(x)dx$"
   ]
  },
  {
   "cell_type": "markdown",
   "id": "4b666060-30bf-4342-9af7-a6ae13b41ac0",
   "metadata": {},
   "source": [
    "$\\mathbf{A}{i}{r}{e}$ $\\mathbf{g}{e}{o}{m}{e}{t}{r}{i}{q}{u}{e}$ $\\mathbf{d}{e}$ $\\mathbf{D}$ = $\\int_{a}^{b}|f(x)|dx$"
   ]
  },
  {
   "cell_type": "markdown",
   "id": "43c555d5-1e1b-4dfc-a479-4b3910f07d29",
   "metadata": {},
   "source": [
    "### Proprietes des integralles:"
   ]
  },
  {
   "cell_type": "markdown",
   "id": "752ae422-a0f3-4b00-b3ff-369c3532d5d1",
   "metadata": {},
   "source": [
    "Soient $f,g$ deux fonctions integrabke sur $[a,b]$ et $\\lambda \\in\\mathbb{R}$, Alors les fonctions $f + g, \\lambda.f, |f|$ et $fg$ sont integrabel sur $[a,b]$ ona:"
   ]
  },
  {
   "cell_type": "markdown",
   "id": "28baac2a-a92a-45b0-9a63-103ffe440026",
   "metadata": {},
   "source": [
    "* $\\int_{a}^{b}[f(x) + g(x)]dx = \\int_{a}^{b} f(x)dx + \\int_{a}^{b}g(x)dx$\n",
    "* $\\int_{a}^{b}(\\lambda f)(x)dx = \\lambda\\int_{a}^{b}f(x)$\n",
    "* $\\int_{a}^{b}f(x)dx = \\int_{a}^{c}f(x)dx + \\int_{c}^{b}f(x)dx,$ avec $c \\in [a,b]$\n",
    "* $\\int_{a}^{b}f(x)dx$\n",
    "* ${|\\int_{a}^{b}f(x)dx|} \\leqslant \\int_{a}^{b}|f(x)|dx$ (Relation de Chasles)\n",
    "* $\\int_{a}^{a}f(x)dx = 0$\n",
    "* $\\int_{a}^{b}f(x)dx = -\\int_{b}^{a}f(x)dx$"
   ]
  },
  {
   "cell_type": "markdown",
   "id": "239207f6-ffc6-4697-b87e-058d2ecf17ce",
   "metadata": {},
   "source": [
    "* Inegalite de Cauchy-Schwarz\n",
    "    - $\\left(\\int_{a}^{b}f(x)g(x)dx\\right)^2 \\leqslant \\left(\\int_{a}^{b}(f(x))^2dx\\right) \\left(\\int_{a}^{b}(g(x))^2dx\\right)$\n",
    "* La preuve: (preuver l'inegalite de Cauchy-Schwarz pour les integralles)\n",
    "    - Considerer $\\int_{a}^{b} [f(x) - \\lambda.g(x)]^{2}dx$\n",
    "    - Alors: $[f(x) - \\lambda.g(x)]^2 = (f(x))^2 -2tf(x).g(x) + t^2(g(x))^2$\n",
    "    - Donc, nous obtinons: $\\int_{a}^{b}(f(x))^2dx -2t\\int_{a}^{b}f(x)g(x)dx + t^2\\int_{a}^{b}(g(x))^2dx \\geqslant 0$\n",
    "    - Posons que $A = \\int_{a}^{b}(f(x))^2dx,$ $B=\\int_{a}^{b}f(x)g(x)dx$ et $C = \\int_{a}^{b}(g(x))^2dx$\n",
    "    - en obtient: $A^2 -2tB + t^2C^2 \\geqslant 0$ (Est un polynome quadratique) Comme $t$ reel non-negative\n",
    "    - alors discriminant doit etre non positive: $(-2B)^2 - 4AC \\leqslant 0 \\Longrightarrow 4B^2 -4AC \\leqslant 0 \\Longrightarrow B^2 \\leqslant AC$\n",
    "    - substituant $A,B$ et $C$ $\\longrightarrow \\left (\\int_{a}^{b}f(x)g(x)dx\\right)^2 \\leqslant \\left(\\int_{a}^{b}(f(x))^2dx\\right).\\left(\\int_{a}^{b}(g(x))^2dx\\right)$"
   ]
  },
  {
   "cell_type": "markdown",
   "id": "c8084f99-1c17-469c-b8e9-5f7cc03b1a9a",
   "metadata": {},
   "source": [
    "* Theoreme: Si $f$ est une fonction bornée sur $[a,b]$ et continue sauf en un nombre fini de points, alors $f$ est intégrable sur $[a,b]$. En particulier, si $f$ est continue sur $[a,b]$, alors $f$ est intégrable."
   ]
  },
  {
   "cell_type": "markdown",
   "id": "345ef87f",
   "metadata": {},
   "source": [
    "<img alt=\"Primitive s'annulle sur x_0\" src=\"../Outputs/Figures/Convergence des sommes de Riemann.png\" title=\"Somme de Riemann avec continuite\"/>\n",
    "\n",
    "<img alt=\"Primitive s'annulle sur x_0\" src=\"../Outputs/Figures/Convergence des sommes de Riemann avec discontinuite.png\" title=\"Somme de Riemann avec continuite\"/>"
   ]
  },
  {
   "cell_type": "markdown",
   "id": "d27d6bfc",
   "metadata": {},
   "source": [
    "cette code Visualise la convergence des sommes de Riemann pour une fonction continue et une fonction avec une discontinuité.\n",
    "\n",
    "* Criter d'integrabilite de Riemann:\n",
    "    - Une fonction f est integrable sur $[a,b]$ ssi est bornee et que l'ensemble de ses points de discontinuite est negligable. Un ensemble finie de points est toujous de mesure nulle.\n",
    "* Une fonction avec discontinuites finies:\n",
    "    - supposons $f$ bornee sur $[a,b]$ et discontinue en $k$ points ${c_1, c_2,...,c_k}$.\n",
    "    - $\\forall\\epsilon\\geq 0,$ on peut entourer chaque point $c_i$ par un petit intervalle $I_i = [c_i - \\delta_i, c_i + delta_i] de largeur totale $\\sum\\delta_i\\leq\\epsilon$\n",
    "    - sur le reste de $[a,b]$, f est continue donc uniformement continue. On peut choisir une partition fine où les oscillations de $f$ sont contrôlées.\n",
    "    - La difference entre les sommes de Riemann uperieurs $S$ et inferieure $s$ avec;\n",
    "        * $S$: Pour une subdivision $\\sigma = {x_0,x_1,...,x_n}$ tq \n",
    "        * $S$ $= \\sum_{i=1}^{n}(x_i - x_{i-1}).{M_i}$. avec\n",
    "        $M_i = Sup{f(x) | x\\in[x_{i-1}, x_i]}$. Est le supermun de $f$ sur le sous-intervalle $[x_{i-1},x_i]$.\n",
    "        * $s = \\sum_{i=1}{n} (x_i - x_{i-1}).m_i$ ou $m_i = inf{f(x) | x\\in [x_{i-1}, x_i]}$ Est l'infimum de $f$ sur la meme sous-intervalle.\n",
    "    - $S - s = \\sum_{i=1}{n} (x_i - x_{i-1}).(M_i - m_i)$, $S - s$ depend de la longueur de chaque sous-intervalle $(x_i - x_{i-1})$ et de la variation de la fonction sur ce sous-intervalle $(M_i - m_i)$\n",
    "* Si $f$ est continue sur $[a,b]$, $\\forall\\epsilon > 0, \\exists\\delta>0$ tq:\n",
    "    - $|x - y| < \\delta$ $\\Longrightarrow$ $|f(x) - f(y)|<\\epsilon$\n",
    "    - par partition de pas $\\delta$, les oscillations de $f$ sur chaque sous-intervalle sont $<\\epsilon$, donc $S - s \\leqslant \\epsilon(b-a) \\rightarrow 0$.\n",
    "\n",
    "\n",
    "Voire la visualisons la convergence des sommes de Riemann pour une fonction continue et une fonction avec une discontinuite $(f(x) = x^2$ sur $[0,1]$; $f(x)=1$ sauf en $x=0.5)$.\n"
   ]
  },
  {
   "cell_type": "markdown",
   "id": "d07a3790",
   "metadata": {},
   "source": [
    "###  Inegalite de la moyenne"
   ]
  },
  {
   "cell_type": "markdown",
   "id": "762ccdbf",
   "metadata": {},
   "source": [
    "Soit $f$ continue sur $I$, soit $(a,b)\\in I^2$ avec $a<b$, soit $M,m$ des reels tq:\n",
    "- $\\forall x \\in I, m\\leqslant f(x) \\leqslant M$\n",
    "- alors: $m(b-a) \\leqslant \\int_{a}^{b}f(t)dt \\leqslant M(b-a)$"
   ]
  },
  {
   "cell_type": "markdown",
   "id": "e5454e66",
   "metadata": {},
   "source": [
    "- si $\\exists m,M \\in\\mathbb{R} tq; $m\\leqslant f(x) \\leqslant M$, $ \\forall x \\in [a,b]$\n",
    "    * $m(b-a) $ $\\leqslant\\int_{a}^{b} f(x)dx \\leqslant$ $M(b-a)$\n",
    "- Et l'interpretation graphique, visualise l'encadrement de l'integrale pour une fonction bornee. le cas de $f(x) = \\sin(x)$ sur $[0,2\\pi]$ avec $(m,M) =(-1,1)$"
   ]
  },
  {
   "cell_type": "markdown",
   "id": "aa9ab09f-ca3a-4479-a67e-8c77b525473d",
   "metadata": {},
   "source": [
    "<img alt=\"\" src=\"../Outputs/Figures/Encadrement d'une fonction (0).png\" title=\"Encadrement d'une fonction\"/>"
   ]
  },
  {
   "cell_type": "markdown",
   "id": "1d2f5e8b",
   "metadata": {},
   "source": [
    "- Si $\\exists k\\in\\mathbb{R}$ tq $|f(x)| \\leqslant k$ $\\forall x\\in[a,b]$. alors\n",
    "    *    $\\int_{a}^{b}|f(x)|dx$ $\\leqslant k(b-a)$\n",
    "    * Car par hypothese $|f(x)|\\leqslant k$ $\\forall x\\in[a,b]$\n",
    "\n",
    "- Avec l'inegalite triangulaire pour les integrales:\n",
    "    * $\\left |\\int_{a}^{b} f(x)dx \\right |$ $\\leqslant \\int_{a}^{b} |f(x)|dx$\n",
    "- Application de l’encadrement:\n",
    "    * $\\int_{a}^{b} |f(x)|dx$ $\\leqslant k(b-a)$"
   ]
  },
  {
   "cell_type": "markdown",
   "id": "c6dfa049",
   "metadata": {},
   "source": [
    "- Cas de $f(x)$ avec $|f(x)|<1$"
   ]
  },
  {
   "cell_type": "markdown",
   "id": "efdbdfbe",
   "metadata": {},
   "source": [
    "<img alt=\"Primitive s'annulle sur x_0\" src=\"../Outputs/Figures/Majorations.png\" title=\"\"/>\n",
    "<img alt=\"Primitive s'annulle sur x_0\" src=\"../Outputs/Figures/Valeur moyenne.png\" title=\"Somme de Riemann avec continuite\"/>"
   ]
  },
  {
   "cell_type": "markdown",
   "id": "f5adaf39",
   "metadata": {},
   "source": [
    "# Theoreme Fondamental Du Calcul:"
   ]
  },
  {
   "cell_type": "markdown",
   "id": "ccea3afd",
   "metadata": {},
   "source": []
  },
  {
   "cell_type": "markdown",
   "id": "ed8633b2",
   "metadata": {},
   "source": []
  },
  {
   "cell_type": "markdown",
   "id": "e356053d",
   "metadata": {},
   "source": []
  },
  {
   "cell_type": "markdown",
   "id": "f2f44c9e",
   "metadata": {},
   "source": []
  },
  {
   "cell_type": "markdown",
   "id": "6974dba3",
   "metadata": {},
   "source": []
  },
  {
   "cell_type": "markdown",
   "id": "e564288f",
   "metadata": {},
   "source": []
  },
  {
   "cell_type": "markdown",
   "id": "162da152",
   "metadata": {},
   "source": []
  },
  {
   "cell_type": "markdown",
   "id": "3e9167d9",
   "metadata": {},
   "source": []
  },
  {
   "cell_type": "markdown",
   "id": "ded8c010",
   "metadata": {},
   "source": []
  },
  {
   "cell_type": "markdown",
   "id": "02270164",
   "metadata": {},
   "source": []
  },
  {
   "cell_type": "markdown",
   "id": "7ee70ba6",
   "metadata": {},
   "source": []
  },
  {
   "cell_type": "markdown",
   "id": "e3018dc3",
   "metadata": {},
   "source": []
  },
  {
   "cell_type": "markdown",
   "id": "7186d47a",
   "metadata": {},
   "source": []
  },
  {
   "cell_type": "markdown",
   "id": "d32914e0",
   "metadata": {},
   "source": []
  },
  {
   "cell_type": "markdown",
   "id": "72244a38-5df6-4c8b-aceb-9e743344137d",
   "metadata": {},
   "source": [
    "Exercices pour faire:\n",
    "1. Montrer qu’une fonction $f : (a, b) → \\mathbb{R} $ admettant une derivee bornee est uniformement continue:\n",
    "2. En deduire qu’une fonction rationnelle $R: \\mathbb{R} → \\mathbb{R}$ bornee est uniformement continue sur $\\mathbb{R}$.\n",
    "3. Montrer qu’une fonction $f : (a,b) → mathbb{R}$ qui est uniformement continue sur $(a,c]$ et sur $[c,b)$ l’est aussi sur $(a,b)$\n",
    "4. $f(x) = "
   ]
  },
  {
   "cell_type": "markdown",
   "id": "93915b40-5428-4307-80f2-9e7bfad5fcd5",
   "metadata": {},
   "source": [
    "* Explication generale (question 1):\n",
    "    - On suppose qu'il existe une constante $M > 0$ tq $\\forall x \\in[a,b]$:\n",
    "        * $|f'(x)| \\leqslant M$\n",
    "    - D'apres le théorème des accroissements finis, $\\forall x,y\\in(a,b)$ avec $x\\neq y$, $\\exists c$ entre $a$ et $b$ tq:\n",
    "        * $f(x) - f(y) = f'(c)(x-y)$\n",
    "    - Alors; $|f(x) - f(y)| = |f'(c)||x-y| \\geqslant M(x-y)$\n",
    "    - Cette inégalité montre que $f$ satisfait une condition de Lipschitz avec la constante $M$. Or, toute fonction lipschitzienne est uniformément continue, car pour tout $ε>0$ on peut choisir $δ=ε/M$ afin que\n",
    "        * $|x-y|<δ$ $\\Longrightarrow$ $|f(x) - f(y)|$ $< M.\\frac{\\epsilon}{M}$ = $\\epsilon$\n",
    "\n",
    "* Explication du Cours:\n",
    "    - En cours, nous avons vu que la définition de l'uniforme continuité est la suivante: Une fonction $f:(a,b) \\rightarrow\\mathbb{R}$ uniforemement continue sur $(a,b)$ s'il existe, $\\forall \\epsilon > 0$, un $\\delta>0$ tq $\\forall (x,y)\\in(a,b)$, si $|x-y|<\\delta$ alors $|f(x) - f(y)|<\\epsilon$\n",
    "    - Le theoreme des accroissements finis (TAF) permet de controler la variation de $f$ en termes de $∣x−y∣$ grace a la derivee. L'inegalite obtenue: \n",
    "        * $|f(x) - f(y)| \\leqslant M|x-y|$\n",
    "    - implique que pour tout $ε>0$, il suffit de prendre $δ=ε/M$ pour que la condition d'uniforme continuite soit satisfaite. Cette demonstration est un exemple classique d'utilisation de la dérivée bornée pour garantir une régularité forte de $f$.\n",
    "* Reponse:\n",
    "    - si: $f: (a,b) \\rightarrow\\mathbb{R}$ est differentiable et que $|f'(x)| \\geqslant M$ pour tout $x\\in(a,b)$, alors d'apres la TAF On a: $|f(x) - f(y)| \\leqslant M|x-y|$\n",
    "    - Ainsi, $f$ pour consiquent uniformement coninue."
   ]
  },
  {
   "cell_type": "code",
   "execution_count": 19,
   "id": "9eb2ce24",
   "metadata": {},
   "outputs": [
    {
     "data": {
      "image/png": "[encoded data removed]",
      "text/plain": [
       "<Figure size 800x400 with 1 Axes>"
      ]
     },
     "metadata": {},
     "output_type": "display_data"
    }
   ],
   "source": [
    "import numpy as np\n",
    "import matplotlib.pyplot as plt\n",
    "\n",
    "def f(x):\n",
    "    return np.sin(x)\n",
    "def df(x):\n",
    "    return np.cos(x)\n",
    "\n",
    "x = np.linspace(0, 2*np.pi, 500)\n",
    "y = f(x)\n",
    "\n",
    "plt.figure(figsize=(8,4))\n",
    "plt.plot(x,y, label=r\"$f(x) = \\sin(x)$\")\n",
    "plt.title(\"Visualisation de la fonction et de sa regularite:\")\n",
    "plt.xlabel(\"X\")\n",
    "plt.ylabel(\"f(x)\")\n",
    "plt.legend()\n",
    "\n",
    "x_0 = np.pi/4\n",
    "y_0 = f(x_0)\n",
    "plt.plot(x, y_0 + (x - x_0), 'r--', label=r'$y=f(x_0)+(x-x_0)$')\n",
    "plt.plot(x, y_0 - (x - x_0), 'r--', label=r'$y=f(x_0)-(x-x_0)$')\n",
    "plt.scatter([x_0], [y_0], color='y', zorder=5)\n",
    "plt.show()"
   ]
  },
  {
   "cell_type": "markdown",
   "id": "f179e38c",
   "metadata": {},
   "source": [
    "* Explication generale (question 2):\n",
    "    - On a une fonction sur un intervalle compact est uniformement convtunue (par theoreme du Hein). Bien que $\\mathbb{R}$ ne soit pas compact, l’hypothèse de bornitude associee à la forme d’une fonction rationnelle entraîne deux propriétés clés:\n",
    "        * Absence de pôles réels : La fonction ne peut pas avoir de singularités sur $\\mathbb{R}$ sinon ne sera pas bornee.\n",
    "        * Comportement a l'infini: Une fonction rationnelle bornee doit avoire un degree au numerateur inferieur ou egal a celui du dénominateur. Ainsi, elle admet une limite finie lorsque $x \\longrightarrow +\\infty$ et $x \\longrightarrow -\\infty$ \n",
    "\n",
    "* Explication du Cours:\n",
    "    - Continuite sur un compact: Sur tout intervalle ferme et borne $[-M; M]$, La continuite de $R$ garantit, par le theoreme de Hein, que $R$ est unifomement continue sur cet intervalle.\n",
    "    - Comportement aux \"queues\" de $\\mathbb{R}$: Puisque $R$ est bornee et rationnelle deux cas se presentent:\n",
    "        * Si le degre du numerateur est strictuement inferieur a celui du denominateur, alors $R(x) \\longrightarrow 0$ quand $|x| \\longrightarrow\\infty$ \n",
    "        * Si le degre sont egaux $R(x)$ tend vers le rapport des coefficients dominants, C'est-a-dire une limite finie $L$.\n",
    "        \n",
    "        Dans les deux cas $\\forall \\epsilon > 0$, il exists un grand $M$ tq $\\forall |x| > M$ On a $|R(x) - L| < \\frac{\\epsilon}2$.\n",
    "        \n",
    "        Cela signifie que sur les parties extrêmes (les \"queues\"), $R$ varie tres peu, ce qui favorise l’uniformite de la continuite.\n",
    "\n",
    "        * Recouvrement de $\\mathbb{R}$ par des intervalles \"compacts\" est \"queues\": Choisissons $M>0$ tq $\\mathbb{R}\\setminus[-M,M]$, $R$ Soit $\\epsilon/2$ proche de sa limite $L$\n",
    "            - Sur $[-M,M]$, il existe $\\delta_1 >0$ tq si $|x-y|<\\delta_1$ alors, $|R(x) - R(y)|<\\epsilon$ (Uniforme par Heine)\n",
    "            - Si $x$ et $y$ appartiennent aux \"queues\" (par exemple $x,y>M$ ou $x,y<-M$) alors $|R(x) - R(y)|\\leqslant |R(x) - L| + |L - R(y)|$ $< \\frac{\\epsilon}2 + \\frac{\\epsilon}2 = \\epsilon$\n",
    "            - Dans le cas où x se trouve dans $[-M,M]$ et $y$ dans une \"queue\", la condition $|x-y|<\\delta$ (pour un $\\delta$ chosi suffisamant petit) force $y$ a etre proche du bord $\\pm$ où la continuite (et donc la variation faible de $R$) assure encore $∣R(x)−R(y)∣<ε$\n",
    "\n",
    "* Conclusion et Réponse:\n",
    "    - En combinant ces observations, on déduit que pour tout $ε>0$ il existe un $δ>0$ (choisi comme le minimum de ceux obtenus sur $[−M,M]$ et dans les queues) tel que pour tous $x,y∈R$, si $∣x−y∣<δ$ alors $∣R(x)−R(y)∣<ε$. Autrement dit, la fonction $R$ est uniformément continue sur $\\mathbb{R}$.\n",
    "\n",
    "    - Ainsi, une fonction rationnelle bornée $R:\\mathbb{R}→\\mathbb{R}$ est uniformément continue sur $\\mathbb{R}$.\n"
   ]
  },
  {
   "cell_type": "code",
   "execution_count": 1,
   "id": "77f03cfb",
   "metadata": {},
   "outputs": [
    {
     "data": {
      "image/png": "[encoded data removed]",
      "text/plain": [
       "<Figure size 1900x600 with 1 Axes>"
      ]
     },
     "metadata": {},
     "output_type": "display_data"
    }
   ],
   "source": [
    "import numpy as np\n",
    "import matplotlib.pyplot as plt\n",
    "\n",
    "x = np.linspace(-5, 5, 1000)\n",
    "R = 1/(x**2 + 1)\n",
    "R_prime =  -2*x/(x**2 + 1)**2\n",
    "\n",
    "plt.figure(figsize=(19,6))\n",
    "plt.plot(x,R, label=\"$R(x) = \\\\frac{1}{x^2 + 1}$\", color='b')\n",
    "plt.plot(x,R_prime, label=\"$R'(x) = \\\\frac{-2x}{x^2 + 1}$\", color='y', linestyle='--')\n",
    "plt.title(\"Finction rationnelle bornee et sa derivee bornee\")\n",
    "plt.xlabel(\"X\")\n",
    "plt.ylabel(\"Y\")\n",
    "plt.legend()\n",
    "plt.grid(True)\n",
    "plt.show()"
   ]
  },
  {
   "cell_type": "markdown",
   "id": "5244bb80",
   "metadata": {},
   "source": [
    "* Explication generale (Question 3):\n",
    "    Comme toujours, la definition de l'uniforme continue est; $\\forall\\epsilon >0, \\exists\\delta>0$ tq $\\forall (x,y)\\in(a,b)$\n",
    "    $|x-y|<\\delta \\Longrightarrow |f(x) -f(y)|< \\epsilon$.\n",
    "    L'idee de la dimenstration est de \"recoller\" les deux parties ou $f$ est uniformement continue. Pour cela, on procede en deux etapes:\n",
    "    - Uniformite sur les sous-intervalles:\n",
    "        * sur $(a,c]$ , par hypothese, $\\forall\\epsilon>0, \\exists\\delta_1>0$ tq $\\forall (x,y) \\in (a,c]$ avec $|x-y| <\\delta_1$ on a |f(x) - f(y)|<\\epsilon$\n",
    "        * De meme sur $[c, b)$, il existe $\\delta_2>0$ tq $\\forall (x,y) \\in [c, b) avec |x-y|<\\delta_2$ on a $|f(x) - f(y)|<\\epsilon$\n",
    "    - Traitement du cas mixte $x$ de $(a,c]$ et $y$ de $[c, b)$:\n",
    "    Si $x$ et $y$ se trouvent de part et d'autre du point $c$ et que $|x-y|$ est petit, alors ils doivent etre tous deux proches de $c$. or la continuite en $c$. (Consiquence de l'inuforme coninuite sur chacun des intervalles adjacents) permet de controler $|f(x) - f(c)|$ et $|f(y) -f(c)|$. en effet, $\\exists \\delta_3>0$ tq $\\forall z$ avec $|z - c| < \\delta_3$ On ait:\n",
    "        * $|f(z) - f(c)|<\\frac{\\epsilon}2$\n",
    "    Ainsi si $|x-c|<delta_3$ et $|y-c|<\\delta_3$ alors par inegalite triangulaire:\n",
    "        * $|f(x) - f(y)| \\leqslant |f(x) - f(c)| + |f(y) - f(c)|<\\frac{\\epsilon}2 + \\frac{\\epsilon}2 = \\epsilon$\n",
    "\n",
    "* Constraction de $\\delta$ globale:\n",
    "Soit $\\epsilon>0$, choisissons $\\delta = \\min\\{\\delta_1, \\delta_2, \\delta_3\\}$.\n",
    "Alors, quel que soient $x,y \\in (a,b)$ verifiant $|x-y|<\\delta$;\n",
    "    - Cas 1: $x,y$ appartient a $(a,c]$: Par uniforme continuite sur $(a, c]$, on a $|f(x) - f(y)|<\\epsilon$\n",
    "    - Cas 2: $x,y$ appartient a $[c, b)$: Par uniforme conituite sur $[c,b)$ on a $|f(x) - f(y)|<\\epsilon$.\n",
    "    - Cas 3: $x\\in(a,c]$ et $y\\in[c,b)$ (Ou vice versa); Dons ce cas, $|x-y|<\\delta$ implique que $x$ et $y$ sont tous deux distance inferieure a $\\delta$ de $c$. Ainsi; $|f(x) - f(c)|<\\frac{\\epsilon}2$ et $|f(y) - f(c)|<\\frac{\\epsilon}2$.\n",
    "    Ce qui donne par inegalite triangulaire:\n",
    "    $|f(x) - f(y)|\\leqslant |f(x) - f(c)| + |f(c) - f(y)|\\leqslant \\frac{\\epsilon}2 + \\frac{\\epsilon}2 = \\epsilon$.\n",
    "\n",
    "* Conclusion: $\\forall\\epsilon>0$, choisissant $\\delta = \\min\\{\\delta_1, \\delta_2,\\delta_3\\}$ ($\\delta_3$ ou $\\frac{\\epsilon}2$), la fonction verifie:\n",
    "$\\forall(x,y)\\in(a,b)$, $|x-y|<\\delta$ $\\Longrightarrow$ $|f(x) - f(y)|<\\epsilon$.\n",
    "Ainsi, $f$ uniformement continue sur $(a,c]$ et $[c,b)$ alors elle l'est sur $(a,b)$.\n",
    "\n",
    "    "
   ]
  }
 ],
 "metadata": {
  "kernelspec": {
   "display_name": "Python 3 (ipykernel)",
   "language": "python",
   "name": "python3"
  },
  "language_info": {
   "codemirror_mode": {
    "name": "ipython",
    "version": 3
   },
   "file_extension": ".py",
   "mimetype": "text/x-python",
   "name": "python",
   "nbconvert_exporter": "python",
   "pygments_lexer": "ipython3",
   "version": "3.12.9"
  }
 },
 "nbformat": 4,
 "nbformat_minor": 5
}
