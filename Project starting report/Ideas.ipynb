{
 "cells": [
  {
   "cell_type": "code",
   "execution_count": null,
   "id": "4e7ead0a-6e10-461d-a807-8e8efd0fb5fa",
   "metadata": {},
   "outputs": [],
   "source": [
    "Inexperience: Ideas (Too early)\n",
    "Engagement: Projects (Right Time)\n",
    "Mastery ...."
   ]
  },
  {
   "cell_type": "code",
   "execution_count": null,
   "id": "26a7950e-b668-48f8-97c4-e6fbff182ed3",
   "metadata": {},
   "outputs": [],
   "source": [
    "Risks:\n",
    "\n"
   ]
  }
 ],
 "metadata": {
  "kernelspec": {
   "display_name": "Python 3 (ipykernel)",
   "language": "python",
   "name": "python3"
  },
  "language_info": {
   "codemirror_mode": {
    "name": "ipython",
    "version": 3
   },
   "file_extension": ".py",
   "mimetype": "text/x-python",
   "name": "python",
   "nbconvert_exporter": "python",
   "pygments_lexer": "ipython3",
   "version": "3.12.9"
  }
 },
 "nbformat": 4,
 "nbformat_minor": 5
}
