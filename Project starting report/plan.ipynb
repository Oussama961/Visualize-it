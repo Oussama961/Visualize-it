{
 "cells": [
  {
   "cell_type": "markdown",
   "id": "de8db862-70f5-4ba8-8dca-1288446f700b",
   "metadata": {},
   "source": [
    "Fondations:\n",
    "- Purpose: a group of university students who want to meet and to get to know different people and cultur by creating a mixed environment. They decided through their various experience, to organize different activities in arranged visits.\n",
    "- Investment: Will cost time, time, time... and work.\n",
    "- Benefits: Experience, environment, opportunities, money... and we will know the project on the right path when it's getting the first activity organizing.\n",
    "\n",
    "People:\n",
    "- Sponsorship: who's accountable for the project?\n",
    "- Stakeholders: Who will benefit from and be affected by the project?\n",
    "- Resources:\n",
    "    * Oussama Nekker\n",
    "    * Skills needed: Full-stuck dev, data structure, project managing, communication,\n",
    "\n",
    "Creation:\n",
    "- deliverables: The project as a start will be as a tourist small guide in the erea, with the main idea of building a strong base to start events building.\n",
    "- Plan: when we will be done?\n",
    "- Change: How we will engage the stakeholders and manage risk?\n"
   ]
  },
  {
   "cell_type": "code",
   "execution_count": null,
   "id": "6cdf4113-ee79-42b8-9d7b-fedf51bcd9a8",
   "metadata": {},
   "outputs": [],
   "source": []
  }
 ],
 "metadata": {
  "kernelspec": {
   "display_name": "Python 3 (ipykernel)",
   "language": "python",
   "name": "python3"
  },
  "language_info": {
   "codemirror_mode": {
    "name": "ipython",
    "version": 3
   },
   "file_extension": ".py",
   "mimetype": "text/x-python",
   "name": "python",
   "nbconvert_exporter": "python",
   "pygments_lexer": "ipython3",
   "version": "3.12.9"
  }
 },
 "nbformat": 4,
 "nbformat_minor": 5
}
