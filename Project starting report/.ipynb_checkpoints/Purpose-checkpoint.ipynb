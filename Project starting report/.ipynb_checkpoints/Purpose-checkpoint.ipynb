{
 "cells": [
  {
   "cell_type": "markdown",
   "id": "487130c2-3ba6-4bc1-9545-d621d512ad10",
   "metadata": {},
   "source": [
    "### Purpose and Passion: Why do the project?"
   ]
  },
  {
   "cell_type": "markdown",
   "id": "ad3cc730-9707-43be-8b0d-bf6ab015da04",
   "metadata": {},
   "source": []
  }
 ],
 "metadata": {
  "kernelspec": {
   "display_name": "Python 3 (ipykernel)",
   "language": "python",
   "name": "python3"
  },
  "language_info": {
   "codemirror_mode": {
    "name": "ipython",
    "version": 3
   },
   "file_extension": ".py",
   "mimetype": "text/x-python",
   "name": "python",
   "nbconvert_exporter": "python",
   "pygments_lexer": "ipython3",
   "version": "3.12.9"
  }
 },
 "nbformat": 4,
 "nbformat_minor": 5
}
