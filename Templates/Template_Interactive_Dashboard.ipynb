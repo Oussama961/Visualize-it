{
 "cells": [
  {
   "cell_type": "code",
   "execution_count": 1,
   "id": "22c05b76-4ad3-4e2f-bf9a-578a61d42595",
   "metadata": {},
   "outputs": [
    {
     "ename": "ModuleNotFoundError",
     "evalue": "No module named 'mobject'",
     "output_type": "error",
     "traceback": [
      "\u001b[31m---------------------------------------------------------------------------\u001b[39m",
      "\u001b[31mModuleNotFoundError\u001b[39m                       Traceback (most recent call last)",
      "\u001b[36mCell\u001b[39m\u001b[36m \u001b[39m\u001b[32mIn[1]\u001b[39m\u001b[32m, line 4\u001b[39m\n\u001b[32m      1\u001b[39m \u001b[38;5;28;01mimport\u001b[39;00m\u001b[38;5;250m \u001b[39m\u001b[34;01mnumpy\u001b[39;00m\u001b[38;5;250m \u001b[39m\u001b[38;5;28;01mas\u001b[39;00m\u001b[38;5;250m \u001b[39m\u001b[34;01mnp\u001b[39;00m\n\u001b[32m      2\u001b[39m \u001b[38;5;28;01mimport\u001b[39;00m\u001b[38;5;250m \u001b[39m\u001b[34;01mitertools\u001b[39;00m\u001b[38;5;250m \u001b[39m\u001b[38;5;28;01mas\u001b[39;00m\u001b[38;5;250m \u001b[39m\u001b[34;01mit\u001b[39;00m\n\u001b[32m----> \u001b[39m\u001b[32m4\u001b[39m \u001b[38;5;28;01mfrom\u001b[39;00m\u001b[38;5;250m \u001b[39m\u001b[34;01mmobject\u001b[39;00m\u001b[34;01m.\u001b[39;00m\u001b[34;01mmobject\u001b[39;00m\u001b[38;5;250m \u001b[39m\u001b[38;5;28;01mimport\u001b[39;00m Mobject, Mobject1D, Mobject2D, Mobject\n\u001b[32m      5\u001b[39m \u001b[38;5;28;01mfrom\u001b[39;00m\u001b[38;5;250m \u001b[39m\u001b[34;01mgeometry\u001b[39;00m\u001b[38;5;250m \u001b[39m\u001b[38;5;28;01mimport\u001b[39;00m Line\n\u001b[32m      6\u001b[39m \u001b[38;5;28;01mfrom\u001b[39;00m\u001b[38;5;250m \u001b[39m\u001b[34;01mconstants\u001b[39;00m\u001b[38;5;250m \u001b[39m\u001b[38;5;28;01mimport\u001b[39;00m *\n",
      "\u001b[31mModuleNotFoundError\u001b[39m: No module named 'mobject'"
     ]
    }
   ],
   "source": [
    "import numpy as np\n",
    "import itertools as it\n",
    "\n",
    "from mobject.mobject import Mobject, Mobject1D, Mobject2D, Mobject\n",
    "from geometry import Line\n",
    "from constants import *\n",
    "\n",
    "from copy import deepcopy\n",
    "import sys\n",
    "\n",
    "from manim_imports_ext import *\n",
    "\n",
    "ARROW_CONFIG = {\"stroke_width\" : 2*DEFAULT_STROKE_WIDTH}\n",
    "LIGHT_RED = RED_E\n",
    "\n",
    "def matrix_to_string(matrix):\n",
    "    return \"--\".join([\"-\".join(map(str, row)) for row in matrix])\n",
    "\n",
    "def matrix_mobject(matrix):\n",
    "    return OldTexText(\n",
    "        \"\"\"\n",
    "        \\\\left(\n",
    "            \\\\begin{array}{%s}\n",
    "                %d & %d \\\\\\\\\n",
    "                %d & %d\n",
    "            \\\\end{array}\n",
    "        \\\\right)\n",
    "        \"\"\"%tuple([\"c\"*matrix.shape[1]] + list(matrix.flatten())),\n",
    "        size = \"\\\\Huge\"\n",
    "    )"
   ]
  },
  {
   "cell_type": "code",
   "execution_count": 2,
   "id": "26a9cf72-60fe-43c5-a79f-5b5847700133",
   "metadata": {},
   "outputs": [
    {
     "ename": "NameError",
     "evalue": "name 'Mobject1D' is not defined",
     "output_type": "error",
     "traceback": [
      "\u001b[31m---------------------------------------------------------------------------\u001b[39m",
      "\u001b[31mNameError\u001b[39m                                 Traceback (most recent call last)",
      "\u001b[36mCell\u001b[39m\u001b[36m \u001b[39m\u001b[32mIn[2]\u001b[39m\u001b[32m, line 1\u001b[39m\n\u001b[32m----> \u001b[39m\u001b[32m1\u001b[39m \u001b[38;5;28;01mclass\u001b[39;00m\u001b[38;5;250m \u001b[39m\u001b[34;01mOldStars\u001b[39;00m(\u001b[43mMobject1D\u001b[49m):\n\u001b[32m      2\u001b[39m     CONFIG = {\n\u001b[32m      3\u001b[39m         \u001b[33m\"\u001b[39m\u001b[33mstroke_width\u001b[39m\u001b[33m\"\u001b[39m : \u001b[32m1\u001b[39m,\n\u001b[32m      4\u001b[39m         \u001b[33m\"\u001b[39m\u001b[33mradius\u001b[39m\u001b[33m\"\u001b[39m          : FRAME_X_RADIUS,\n\u001b[32m      5\u001b[39m         \u001b[33m\"\u001b[39m\u001b[33mnum_points\u001b[39m\u001b[33m\"\u001b[39m      : \u001b[32m1000\u001b[39m,\n\u001b[32m      6\u001b[39m     }\n\u001b[32m      7\u001b[39m     \u001b[38;5;28;01mdef\u001b[39;00m\u001b[38;5;250m \u001b[39m\u001b[34minit_points\u001b[39m(\u001b[38;5;28mself\u001b[39m):\n",
      "\u001b[31mNameError\u001b[39m: name 'Mobject1D' is not defined"
     ]
    }
   ],
   "source": [
    "class OldStars(Mobject1D):\n",
    "    CONFIG = {\n",
    "        \"stroke_width\" : 1,\n",
    "        \"radius\"          : FRAME_X_RADIUS,\n",
    "        \"num_points\"      : 1000,\n",
    "    }\n",
    "    def init_points(self):\n",
    "        radii, phis, thetas = [\n",
    "            scalar*np.random.random(self.num_points)\n",
    "            for scalar in [self.radius, np.pi, 2*np.pi]\n",
    "        ]\n",
    "        self.add_points([\n",
    "            (\n",
    "                r * np.sin(phi)*np.cos(theta), \n",
    "                r * np.sin(phi)*np.sin(theta), \n",
    "                r * np.cos(phi)\n",
    "            )\n",
    "            for r, phi, theta in zip(radii, phis, thetas)\n",
    "        ])"
   ]
  },
  {
   "cell_type": "code",
   "execution_count": null,
   "id": "2c9fbef5-0f1f-4029-bdea-0c55efbc936f",
   "metadata": {},
   "outputs": [],
   "source": []
  }
 ],
 "metadata": {
  "kernelspec": {
   "display_name": "Python 3 (ipykernel)",
   "language": "python",
   "name": "python3"
  },
  "language_info": {
   "codemirror_mode": {
    "name": "ipython",
    "version": 3
   },
   "file_extension": ".py",
   "mimetype": "text/x-python",
   "name": "python",
   "nbconvert_exporter": "python",
   "pygments_lexer": "ipython3",
   "version": "3.12.9"
  }
 },
 "nbformat": 4,
 "nbformat_minor": 5
}
